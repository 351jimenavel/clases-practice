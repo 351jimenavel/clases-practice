{
 "cells": [
  {
   "cell_type": "markdown",
   "id": "f329d259",
   "metadata": {},
   "source": [
    "🌱 ¿Por qué se creó?\n",
    "Antes de que existiera la POO, los programas se escribían con programación estructurada (sólo funciones y datos sueltos).\n",
    "Esto funcionaba bien para programas pequeños, pero al crecer:\n",
    "✅ El código se volvía difícil de entender.\n",
    "✅ Costaba mucho reutilizarlo.\n",
    "✅ Era muy complicado mantenerlo.\n",
    "\n",
    "La Programación Orientada a Objetos nació para resolver estos problemas organizando el código de forma modular, más parecida a cómo pensamos en la vida real."
   ]
  },
  {
   "cell_type": "markdown",
   "id": "5e816b67",
   "metadata": {},
   "source": [
    "🎵 Analogía musical\n",
    "Imagina que estás organizando un concierto enorme con muchas bandas.\n",
    "Si todo fueran funciones sueltas, sería como tener partituras regadas por el piso, cada músico con hojas separadas.\n",
    "\n",
    "La POO te permite:\n",
    "✅ Agrupar todo lo relacionado con un concepto (por ejemplo, una Banda) en un solo bloque.\n",
    "✅ Cada Banda tiene sus propios instrumentos, nombre y canciones.\n",
    "✅ Puedes crear muchas bandas sin que se mezclen."
   ]
  },
  {
   "cell_type": "markdown",
   "id": "a3fe2975",
   "metadata": {},
   "source": [
    "1️⃣ Atributos de instancia\n",
    "✅ Qué son:\n",
    "Son los atributos propios de cada objeto.\n",
    "Cada objeto tiene su copia independiente.\n",
    "\n",
    "✅ Dónde se definen:\n",
    "Dentro del método __init__ (o en otros métodos usando self).\n",
    "\n",
    "✅ Ejemplo:"
   ]
  },
  {
   "cell_type": "code",
   "execution_count": null,
   "id": "2c4f593c",
   "metadata": {},
   "outputs": [],
   "source": [
    "class Guitarra:\n",
    "    def __init__(self, nombre, cuerdas):\n",
    "        self.nombre = nombre          # Atributo de instancia\n",
    "        self.cuerdas = cuerdas        # Atributo de instancia\n",
    "\n",
    "# Crear dos guitarras\n",
    "g1 = Guitarra(\"Guitarra eléctrica\", 6)\n",
    "g2 = Guitarra(\"Guitarra acústica\", 12)\n",
    "\n",
    "print(g1.nombre)   # Guitarra eléctrica\n",
    "print(g2.nombre)   # Guitarra acústica\n"
   ]
  },
  {
   "cell_type": "markdown",
   "id": "17b85076",
   "metadata": {},
   "source": [
    "Atributos de Clase:\n",
    "✅ Qué son:\n",
    "Son atributos compartidos por todos los objetos de esa clase.\n",
    "Todos acceden al mismo valor.\n",
    "\n",
    "✅ Dónde se definen:\n",
    "Fuera de cualquier método, directamente en la clase.\n",
    "\n",
    "✅ Ejemplo"
   ]
  },
  {
   "cell_type": "code",
   "execution_count": 4,
   "id": "fcddc44b",
   "metadata": {},
   "outputs": [
    {
     "name": "stdout",
     "output_type": "stream",
     "text": [
      "Guitarra\n",
      "Violín\n",
      "Cuerda\n",
      "Cuerda\n"
     ]
    }
   ],
   "source": [
    "class Instrumento:\n",
    "    familia = \"Cuerda\"   # Atributo de clase (compartido)\n",
    "\n",
    "    def __init__(self, nombre):\n",
    "        self.nombre = nombre  # Atributo de instancia\n",
    "\n",
    "guitarra = Instrumento(\"Guitarra\")\n",
    "violin = Instrumento(\"Violín\")\n",
    "\n",
    "print(guitarra.nombre)   # Guitarra (atributo de instancia)\n",
    "print(violin.nombre)     # Violín (atributo de instancia)\n",
    "print(guitarra.familia)  # Cuerda (atributo de clase)\n",
    "print(violin.familia)    # Cuerda (atributo de clase)\n"
   ]
  },
  {
   "cell_type": "markdown",
   "id": "1ea2b636",
   "metadata": {},
   "source": []
  },
  {
   "cell_type": "markdown",
   "id": "8c1d4a8c",
   "metadata": {},
   "source": [
    "| Tipo de atributo      | ¿Quién lo tiene?                 | ¿Dónde se declara?              |\n",
    "| --------------------- | -------------------------------- | ------------------------------- |\n",
    "| Atributo de instancia | Cada objeto su propia copia      | Dentro de `__init__` con `self` |\n",
    "| Atributo de clase     | Compartido por todos los objetos | Fuera de métodos en la clase    |\n",
    "| Atributo dinámico     | Solo el objeto que lo recibe     | En tiempo de ejecución          |\n"
   ]
  },
  {
   "cell_type": "markdown",
   "id": "0131df58",
   "metadata": {},
   "source": [
    "🎵 Resumen con analogía\n",
    "✅ Clase = la partitura que define cómo se organiza todo.\n",
    "✅ Objeto = la banda real que toca esa partitura.\n",
    "✅ POO = la manera de organizar tus programas como si fueran muchas bandas independientes, cada una con su setlist, músicos y reglas."
   ]
  },
  {
   "cell_type": "code",
   "execution_count": null,
   "id": "7b0166c3",
   "metadata": {},
   "outputs": [
    {
     "name": "stdout",
     "output_type": "stream",
     "text": [
      "Canción 'Bohemian Rhapsody' agregada.\n",
      "Canción 'Imagine' agregada.\n",
      "Lista de canciones:\n",
      "- Bohemian Rhapsody\n",
      "- Imagine\n"
     ]
    }
   ],
   "source": [
    "# Una lista global para almacenar las canciones\n",
    "canciones = []\n",
    "\n",
    "#Definimos una función llamada agregar_cancion que recibe un parámetro titulo.\n",
    "# titulo será el nombre de la canción que quieras añadir.\n",
    "# Es como decir:\n",
    "#\"Voy a crear un método para meter discos al estante\".\n",
    "\n",
    "def agregar_cancion(titulo):\n",
    "    canciones.append(titulo)\n",
    "    print(f\"Canción '{titulo}' agregada.\")\n",
    "\n",
    "#queres ver todo lo que hay en el estante \n",
    "def mostrar_canciones():\n",
    "    print(\"Lista de canciones:\")\n",
    "    for c in canciones:\n",
    "        print(f\"- {c}\")\n",
    "\n",
    "# Uso\n",
    "#Es como la prueba de sonido antes del concierto.\n",
    "agregar_cancion(\"Bohemian Rhapsody\")\n",
    "agregar_cancion(\"Imagine\")\n",
    "mostrar_canciones()\n"
   ]
  },
  {
   "cell_type": "code",
   "execution_count": null,
   "id": "6439e2e0",
   "metadata": {},
   "outputs": [
    {
     "name": "stdout",
     "output_type": "stream",
     "text": [
      "Canción 'Bohemian Rhapsody' agregada a la playlist.\n",
      "Canción 'Imagine' agregada a la playlist.\n",
      "Canciones en la playlist:\n",
      "- Bohemian Rhapsody\n",
      "- Imagine\n"
     ]
    }
   ],
   "source": [
    "class Playlist: # la clase es el molde \n",
    "    #el objeto es una instancia creada a partir de ese molde\n",
    "    def __init__(self): # self representa el objeto que se esta creando\n",
    "        # Aquí guardamos las canciones de la playlist\n",
    "        self.canciones = []\n",
    "\n",
    "    def agregar_cancion(self, titulo):\n",
    "        self.canciones.append(titulo)\n",
    "        print(f\"Canción '{titulo}' agregada a la playlist.\")\n",
    "\n",
    "    def mostrar_canciones(self):\n",
    "        print(\"Canciones en la playlist:\")\n",
    "        for c in self.canciones:\n",
    "            print(f\"- {c}\")\n",
    "\n",
    "# Uso\n",
    "# aqui se esta creando el objeto en concreto \n",
    "mi_playlist = Playlist() #objeto creado Playlist de la clase Playlist almacenado en la cajita \" mi_playlist\"\n",
    "mi_playlist.agregar_cancion(\"Bohemian Rhapsody\")\n",
    "mi_playlist.agregar_cancion(\"Imagine\")\n",
    "mi_playlist.mostrar_canciones()\n"
   ]
  },
  {
   "cell_type": "code",
   "execution_count": null,
   "id": "7079f9df",
   "metadata": {},
   "outputs": [],
   "source": [
    "# Clase\n",
    "class Guitarra:\n",
    "    def __init__(self, color):\n",
    "        self.color = color\n",
    "\n",
    "# Objetos\n",
    "g1 = Guitarra(\"roja\")\n",
    "g2 = Guitarra(\"azul\")\n",
    "\n",
    "print(g1.color)  # roja\n",
    "print(g2.color)  # azul\n",
    "\n",
    "#Guitarra es la clase.\n",
    "\n",
    "#g1 y g2 son dos objetos distintos.\n",
    "\n",
    "#Dentro de __init__, self es g1 o g2 según cuál estás creando.\n"
   ]
  },
  {
   "cell_type": "code",
   "execution_count": 3,
   "id": "ff85665e",
   "metadata": {},
   "outputs": [
    {
     "name": "stdout",
     "output_type": "stream",
     "text": [
      "Guitarra eléctrica está sonando.\n",
      "Guitarra eléctrica está afinando las cuerdas.\n",
      "Batería acústica está sonando.\n",
      "Batería acústica está marcando el ritmo.\n"
     ]
    }
   ],
   "source": [
    "# Clase base\n",
    "class Instrumento:\n",
    "    def __init__(self, nombre):\n",
    "        self.nombre = nombre  # Atributo común\n",
    "\n",
    "    def tocar(self):\n",
    "        print(f\"{self.nombre} está sonando.\")\n",
    "\n",
    "# Clase derivada 1\n",
    "class Guitarra(Instrumento):\n",
    "    def afinar(self):\n",
    "        print(f\"{self.nombre} está afinando las cuerdas.\")\n",
    "\n",
    "# Clase derivada 2\n",
    "class Bateria(Instrumento):\n",
    "    def golpear(self):\n",
    "        print(f\"{self.nombre} está marcando el ritmo.\")\n",
    "\n",
    "# Uso\n",
    "mi_guitarra = Guitarra(\"Guitarra eléctrica\")\n",
    "mi_bateria = Bateria(\"Batería acústica\")\n",
    "\n",
    "mi_guitarra.tocar()   # Método heredado\n",
    "mi_guitarra.afinar()  # Método propio\n",
    "\n",
    "mi_bateria.tocar()    # Método heredado\n",
    "mi_bateria.golpear()  # Método propio\n"
   ]
  },
  {
   "cell_type": "code",
   "execution_count": 5,
   "id": "2d4aed09",
   "metadata": {},
   "outputs": [
    {
     "name": "stdout",
     "output_type": "stream",
     "text": [
      "I . . . .\n",
      ". . X . .\n",
      ". . . X .\n",
      ". . . . .\n",
      ". . . . F\n"
     ]
    }
   ],
   "source": [
    "# Creamos el tablero vacío\n",
    "def crear_tablero(filas, columnas):\n",
    "    return [[\".\" for _ in range(columnas)] for _ in range(filas)]\n",
    "\n",
    "# Colocar obstáculos\n",
    "def colocar_obstaculo(tablero, x, y):\n",
    "    tablero[x][y] = \"X\"\n",
    "\n",
    "# Colocar inicio\n",
    "def colocar_inicio(tablero, x, y):\n",
    "    tablero[x][y] = \"I\"\n",
    "\n",
    "# Colocar fin\n",
    "def colocar_fin(tablero, x, y):\n",
    "    tablero[x][y] = \"F\"\n",
    "\n",
    "# Mostrar tablero\n",
    "def mostrar_tablero(tablero):\n",
    "    for fila in tablero:\n",
    "        print(\" \".join(fila))\n",
    "\n",
    "# Uso\n",
    "tablero = crear_tablero(5, 5)\n",
    "colocar_obstaculo(tablero, 1, 2)\n",
    "colocar_obstaculo(tablero, 2, 3)\n",
    "colocar_inicio(tablero, 0, 0)\n",
    "colocar_fin(tablero, 4, 4)\n",
    "mostrar_tablero(tablero)\n"
   ]
  },
  {
   "cell_type": "code",
   "execution_count": 6,
   "id": "00d9524f",
   "metadata": {},
   "outputs": [
    {
     "name": "stdout",
     "output_type": "stream",
     "text": [
      "I . . . .\n",
      ". . X . .\n",
      ". . . X .\n",
      ". . . . .\n",
      ". . . . F\n"
     ]
    }
   ],
   "source": [
    "# Clase base\n",
    "class TableroBase:\n",
    "    def __init__(self, filas, columnas):\n",
    "        self.filas = filas\n",
    "        self.columnas = columnas\n",
    "        self.tablero = [[\".\" for _ in range(columnas)] for _ in range(filas)]\n",
    "\n",
    "    def mostrar_tablero(self):\n",
    "        for fila in self.tablero:\n",
    "            print(\" \".join(fila))\n",
    "\n",
    "# Clase hija con funcionalidades extra\n",
    "class TableroJuego(TableroBase):\n",
    "    def colocar_obstaculo(self, x, y):\n",
    "        self.tablero[x][y] = \"X\"\n",
    "\n",
    "    def colocar_inicio(self, x, y):\n",
    "        self.tablero[x][y] = \"I\"\n",
    "\n",
    "    def colocar_fin(self, x, y):\n",
    "        self.tablero[x][y] = \"F\"\n",
    "\n",
    "# Uso\n",
    "mi_tablero = TableroJuego(5, 5)\n",
    "mi_tablero.colocar_obstaculo(1, 2)\n",
    "mi_tablero.colocar_obstaculo(2, 3)\n",
    "mi_tablero.colocar_inicio(0, 0)\n",
    "mi_tablero.colocar_fin(4, 4)\n",
    "mi_tablero.mostrar_tablero()\n"
   ]
  },
  {
   "cell_type": "markdown",
   "id": "3a212b3d",
   "metadata": {},
   "source": [
    " ¿Qué ventajas tiene usar clases con herencia?\n",
    "✅ Organización:\n",
    "\n",
    "Todo queda agrupado en objetos (mi_tablero).\n",
    "\n",
    "✅ Herencia:\n",
    "\n",
    "TableroJuego hereda mostrar_tablero() de TableroBase.\n",
    "\n",
    "Si mañana quieres otro tipo de tablero (TableroAvanzado), solo creas otra clase hija.\n",
    "\n",
    "✅ Escalabilidad:\n",
    "\n",
    "Puedes añadir más métodos o atributos sin ensuciar el código.\n",
    "\n",
    "✅ Instancias independientes:\n",
    "\n",
    "Puedes crear muchos tableros, cada uno con su estado."
   ]
  },
  {
   "cell_type": "code",
   "execution_count": 7,
   "id": "ee70dca6",
   "metadata": {},
   "outputs": [
    {
     "name": "stdout",
     "output_type": "stream",
     "text": [
      "Tablero inicial:\n",
      "G . . . .\n",
      ". . B . .\n",
      ". . . . .\n",
      ". . . T .\n",
      ". . . . .\n",
      "\n",
      "Tablero después de mover la guitarra:\n",
      ". . . . .\n",
      ". . B . .\n",
      ". . . . .\n",
      ". . . T .\n",
      ". . . . G\n",
      "\n",
      "Cantidad total de instrumentos en el tablero: 3\n"
     ]
    }
   ],
   "source": [
    "# Crear tablero vacío\n",
    "def crear_tablero(filas, columnas):\n",
    "    return [[\".\" for _ in range(columnas)] for _ in range(filas)]\n",
    "\n",
    "# Colocar un instrumento en el tablero\n",
    "def colocar_instrumento(tablero, x, y, instrumento):\n",
    "    tablero[x][y] = instrumento\n",
    "\n",
    "# Mover un instrumento de un lugar a otro\n",
    "def mover_instrumento(tablero, x_origen, y_origen, x_destino, y_destino):\n",
    "    instrumento = tablero[x_origen][y_origen]\n",
    "    tablero[x_origen][y_origen] = \".\"\n",
    "    tablero[x_destino][y_destino] = instrumento\n",
    "\n",
    "# Contar cuántos instrumentos hay en total\n",
    "def contar_instrumentos(tablero):\n",
    "    contador = 0\n",
    "    for fila in tablero:\n",
    "        for celda in fila:\n",
    "            if celda != \".\":\n",
    "                contador += 1\n",
    "    return contador\n",
    "\n",
    "# Mostrar el tablero\n",
    "def mostrar_tablero(tablero):\n",
    "    for fila in tablero:\n",
    "        print(\" \".join(fila))\n",
    "\n",
    "# Uso del programa\n",
    "tablero = crear_tablero(5, 5)\n",
    "colocar_instrumento(tablero, 0, 0, \"G\")   # Guitarra\n",
    "colocar_instrumento(tablero, 1, 2, \"B\")   # Batería\n",
    "colocar_instrumento(tablero, 3, 3, \"T\")   # Teclado\n",
    "\n",
    "print(\"Tablero inicial:\")\n",
    "mostrar_tablero(tablero)\n",
    "\n",
    "mover_instrumento(tablero, 0, 0, 4, 4)     # Mover guitarra\n",
    "\n",
    "print(\"\\nTablero después de mover la guitarra:\")\n",
    "mostrar_tablero(tablero)\n",
    "\n",
    "total = contar_instrumentos(tablero)\n",
    "print(f\"\\nCantidad total de instrumentos en el tablero: {total}\")\n"
   ]
  },
  {
   "cell_type": "markdown",
   "id": "21b54944",
   "metadata": {},
   "source": [
    "Conviértelo en una clase llamada Tablero con estos requisitos:\n",
    "\n",
    "1️⃣ Atributos:\n",
    "\n",
    "self.filas\n",
    "\n",
    "self.columnas\n",
    "\n",
    "self.tablero\n",
    "\n",
    "2️⃣ Métodos:\n",
    "\n",
    "colocar_instrumento(x, y, instrumento)\n",
    "\n",
    "mover_instrumento(x_origen, y_origen, x_destino, y_destino)\n",
    "\n",
    "contar_instrumentos()\n",
    "\n",
    "mostrar_tablero()\n",
    "\n",
    "3️⃣ Constructor __init__:\n",
    "\n",
    "Recibe filas y columnas y crea el tablero vacío.\n",
    "\n",
    "✅ Extra (opcional):\n",
    "\n",
    "Validar que las coordenadas sean correctas.\n",
    "\n",
    "Prevenir que se coloque un instrumento encima de otro."
   ]
  }
 ],
 "metadata": {
  "kernelspec": {
   "display_name": "Python 3",
   "language": "python",
   "name": "python3"
  },
  "language_info": {
   "codemirror_mode": {
    "name": "ipython",
    "version": 3
   },
   "file_extension": ".py",
   "mimetype": "text/x-python",
   "name": "python",
   "nbconvert_exporter": "python",
   "pygments_lexer": "ipython3",
   "version": "3.13.5"
  }
 },
 "nbformat": 4,
 "nbformat_minor": 5
}
