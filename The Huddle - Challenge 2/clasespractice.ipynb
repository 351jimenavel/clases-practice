{
 "cells": [
  {
   "cell_type": "code",
   "execution_count": null,
   "id": "49691444",
   "metadata": {},
   "outputs": [
    {
     "name": "stdout",
     "output_type": "stream",
     "text": [
      "Estoy colocandole azucar a mi café\n",
      "Estoy tomando un té frío\n"
     ]
    }
   ],
   "source": [
    "## CLASES Y OBJETOS\n",
    "\"\"\"\n",
    "1. Diseñá una clase que represente una bebida (por ejemplo, café). Tiene que poder tener nombre, tamaño y temperatura.\n",
    "¿Qué podés hacer con esa bebida?\n",
    "\"\"\"\n",
    "class Bebida:\n",
    "\n",
    "    def __init__(self, tipo, tamaño, temperatura):\n",
    "        self.tipo = tipo\n",
    "        self.tamaño = tamaño\n",
    "        self.temperatura = temperatura\n",
    "\n",
    "    def colocar_endulzante(self):\n",
    "        return f\"Estoy colocandole azucar a mi {self.tipo}\"\n",
    "\n",
    "    def tomar(self):\n",
    "        return f\"Estoy tomando un {self.tipo} {self.temperatura}\"\n",
    "    \n",
    "bebida1 = Bebida(\"café\", \"mediano\", \"caliente\")\n",
    "bebida2 = Bebida(\"té\", \"grande\", \"frío\")\n",
    "\n",
    "bebida1.colocar_endulzante()\n",
    "bebida2.tomar()"
   ]
  },
  {
   "cell_type": "code",
   "execution_count": null,
   "id": "a1a0a401",
   "metadata": {},
   "outputs": [
    {
     "name": "stdout",
     "output_type": "stream",
     "text": [
      "La pelota está inflada\n",
      "La pelota puede botar\n"
     ]
    }
   ],
   "source": [
    "\"\"\"\n",
    "2. Simulá una clase Pelota. Cada objeto de esa clase puede botar, cambiar de color, o inflarse.\n",
    "¿Cómo identificarías una pelota roja inflada y otra azul desinflada?\n",
    "\"\"\"\n",
    "\n",
    "class Pelota:\n",
    "\n",
    "    def __init__(self, puede_botar, color, inflada):\n",
    "        self.bota = puede_botar\n",
    "        self.color = color\n",
    "        self.inflada = inflada\n",
    "\n",
    "    def estado_botar(self):\n",
    "        if self.bota == True:\n",
    "            return \"La pelota puede botar\"\n",
    "        else:\n",
    "            return \"La pelota no puede botar\"\n",
    "\n",
    "    def estado_inflado(self):\n",
    "        if self.inflada == True:\n",
    "            return \"La pelota está inflada\"\n",
    "        else:\n",
    "            return \"La pelota está desinflada\"\n",
    "\n",
    "pelota1 = Pelota(True, \"rojo\", True)\n",
    "print(pelota1.estado_inflado())\n",
    "print(pelota1.estado_botar())"
   ]
  },
  {
   "cell_type": "code",
   "execution_count": 33,
   "id": "e31df6e2",
   "metadata": {},
   "outputs": [
    {
     "name": "stdout",
     "output_type": "stream",
     "text": [
      "Acabas de depositar 2000 Gs\n",
      "Acabas de retirar 4000 Gs\n",
      "Tu saldo es de 22000\n",
      "Tu saldo es de 6000\n"
     ]
    }
   ],
   "source": [
    "## MÉTODOS Y ESTADO\n",
    "\"\"\"\n",
    "3. Imaginá una clase CuentaBancaria. Puede depositar, retirar y mostrar el saldo.\n",
    "¿Cómo harías para que dos personas tengan cuentas separadas y no compartan el mismo dinero?\n",
    "\"\"\"\n",
    "\n",
    "class CuentaBancaria:\n",
    "\n",
    "    def __init__(self, saldo):\n",
    "        self.saldo = saldo\n",
    "    \n",
    "    def depositar(self, monto):\n",
    "        self.saldo += monto\n",
    "        return f\"Acabas de depositar {monto} Gs\"\n",
    "    \n",
    "    def retirar(self, monto):\n",
    "        self.saldo -= monto\n",
    "        return f\"Acabas de retirar {monto} Gs\"\n",
    "    \n",
    "    def ver_saldo(self):\n",
    "        return f\"Tu saldo es de {self.saldo}\"\n",
    "    \n",
    "cuenta1 = CuentaBancaria(20000)\n",
    "cuenta2 = CuentaBancaria(10000)\n",
    "\n",
    "print(cuenta1.depositar(2000))\n",
    "print(cuenta2.retirar(4000))\n",
    "\n",
    "print(cuenta1.ver_saldo())\n",
    "print(cuenta2.ver_saldo())"
   ]
  },
  {
   "cell_type": "code",
   "execution_count": null,
   "id": "ff085d5c",
   "metadata": {},
   "outputs": [
    {
     "data": {
      "text/plain": [
       "'Frenaste 40, ahora estás a 0 km/h'"
      ]
     },
     "execution_count": 54,
     "metadata": {},
     "output_type": "execute_result"
    }
   ],
   "source": [
    "\"\"\"\n",
    "4. Hacelo con una clase Auto. Tiene velocidad, puede acelerar o frenar.\n",
    "¿Qué pasa si acelera 3 veces? ¿Y si frena más veces de las que aceleró?\n",
    "\"\"\"\n",
    "class Auto:\n",
    "\n",
    "    def __init__(self, velocidad):\n",
    "        self.velocidad = velocidad\n",
    "\n",
    "    def acelerar(self, aceleracion):\n",
    "        self.velocidad += aceleracion\n",
    "        return f\"Aceleraste {aceleracion} km/h, ahora estás a {self.velocidad} km/h\"\n",
    "    \n",
    "    def frenar(self, freno):\n",
    "        if self.velocidad >= freno:\n",
    "            self.velocidad -= freno\n",
    "            return f\"Frenaste {freno}, ahora estás a {self.velocidad} km/h\"\n",
    "        else:\n",
    "            return \"Ya no puedes frenar, la velocidad no lo permite\"\n",
    "auto1 = Auto(40)\n",
    "auto1.acelerar(20)\n",
    "auto1.acelerar(10)\n",
    "auto1.acelerar(30)\n",
    "auto1.frenar(30)\n",
    "auto1.frenar(10)\n",
    "auto1.frenar(20)\n",
    "auto1.frenar(40)\n",
    "\n"
   ]
  },
  {
   "cell_type": "code",
   "execution_count": null,
   "id": "3d88dd89",
   "metadata": {},
   "outputs": [
    {
     "name": "stdout",
     "output_type": "stream",
     "text": [
      "Jimena envió el siguiente mensaje: Holaaa\n"
     ]
    }
   ],
   "source": [
    "## RELACION ENTRE CLASES\n",
    "\"\"\"\n",
    "5. Una clase Usuario y una clase Mensaje. Cada usuario puede enviar mensajes.\n",
    "¿Cómo sabés quién envió qué mensaje?\n",
    "\"\"\"\n",
    "## Version 1. Funciona pero se podría optimizar\n",
    "class Usuario:\n",
    "\n",
    "    def __init__(self, nombre):\n",
    "        self.nombre = nombre\n",
    "    \n",
    "    def enviar_mensaje(self):\n",
    "        mensaje = input(\"Envia un mensaje: \")\n",
    "        return mensaje\n",
    "\n",
    "class Mensaje:\n",
    "\n",
    "    def __init__(self, usuario, mensaje):\n",
    "        self.usuario = usuario\n",
    "        self.mensaje = mensaje\n",
    "    \n",
    "    def mostrar(self):\n",
    "        print(f\"{self.usuario} envió el siguiente mensaje: {self.mensaje}\")\n",
    "\n",
    "usuario1 = Usuario(\"Jimena\")\n",
    "usuario1_mensaje = Mensaje(usuario1.nombre, usuario1.enviar_mensaje())\n",
    "usuario1_mensaje.mostrar()\n",
    "\n",
    "        \n"
   ]
  },
  {
   "cell_type": "code",
   "execution_count": null,
   "id": "b7800d87",
   "metadata": {},
   "outputs": [
    {
     "name": "stdout",
     "output_type": "stream",
     "text": [
      "Jimena envió el siguiente mensaje: Hola\n"
     ]
    }
   ],
   "source": [
    "## Version 2\n",
    "\n",
    "class Usuario:\n",
    "\n",
    "    def __init__(self, nombre):\n",
    "        self.nombre = nombre\n",
    "    \n",
    "    def enviar_mensaje(self, contenido):\n",
    "        # el usuario crea un nuevo mensaje con este contenido\n",
    "        return Mensaje(self, contenido)\n",
    "\n",
    "class Mensaje:\n",
    "\n",
    "    def __init__(self, usuario, mensaje):\n",
    "        self.usuario = usuario\n",
    "        self.mensaje = mensaje\n",
    "    \n",
    "    def mostrar(self):\n",
    "        print(f\"{self.usuario.nombre} envió el siguiente mensaje: {self.mensaje}\")\n",
    "\n",
    "# No hace falta crear un objeto para mensaje ya que como está estructurado las cosas pasan así:\n",
    "## Clase usuario crea el mensaje.\n",
    "## Clase mensaje los muestra.\n",
    "usuario1 = Usuario(\"Jimena\")\n",
    "usuario1.enviar_mensaje(\"Hola\").mostrar()\n",
    "\n",
    "\n"
   ]
  },
  {
   "cell_type": "code",
   "execution_count": null,
   "id": "43a15769",
   "metadata": {},
   "outputs": [
    {
     "name": "stdout",
     "output_type": "stream",
     "text": [
      "\n",
      "El profesor Edu tiene las siguientes materias: \n",
      "Matemática Castellano Inglés \n",
      "El profesor Gustavo tiene las siguientes materias: \n",
      "Python C++ "
     ]
    }
   ],
   "source": [
    "\"\"\"\n",
    "6. Clase Profesor y clase Clase (como materia). Un profesor puede dar muchas clases.\n",
    "¿Cómo harías para que un profesor tenga una lista de las clases que da?\n",
    "\"\"\"\n",
    "class Profesor:\n",
    "\n",
    "    def __init__(self, nombre, materias):\n",
    "        self.nombre = nombre\n",
    "        self.materias = materias\n",
    "\n",
    "    def agregar_materias(self, materia):\n",
    "        self.materias.append(materia)\n",
    "\n",
    "    def mostrar_materias(self):\n",
    "        print(f\"\\nEl profesor {self.nombre} tiene las siguientes materias: \")\n",
    "        for materia in self.materias:\n",
    "            print(materia, end=\" \")\n",
    "\n",
    "maestro1 = Profesor(\"Edu\", [])\n",
    "maestro1.agregar_materias(\"Matemática\")\n",
    "maestro1.agregar_materias(\"Castellano\")\n",
    "maestro1.agregar_materias(\"Inglés\")\n",
    "maestro1.mostrar_materias()\n",
    "\n",
    "maestro2 = Profesor(\"Gustavo\", [])\n",
    "maestro2.agregar_materias(\"Python\")\n",
    "maestro2.agregar_materias(\"C++\")\n",
    "maestro2.mostrar_materias()"
   ]
  },
  {
   "cell_type": "code",
   "execution_count": 96,
   "id": "8f8c26a2",
   "metadata": {},
   "outputs": [
    {
     "name": "stdout",
     "output_type": "stream",
     "text": [
      "Hola soy Millord. Guau guau\n",
      "Hola soy Shang. Miauuuu\n"
     ]
    }
   ],
   "source": [
    "## HERENCIA\n",
    "\"\"\"\n",
    "7. Clase Animal → clases hijas Perro, Gato.\n",
    "Todos pueden respirar, pero solo el perro puede ladrar y el gato maullar.\n",
    "¿Cómo evitarías repetir lo que hacen todos los animales?\n",
    "\"\"\"\n",
    "\n",
    "class Animal:\n",
    "\n",
    "    def __init__(self, nombre, patas, ojos):\n",
    "        self.nombre = nombre\n",
    "        self.patas = patas\n",
    "        self.ojos = ojos\n",
    "    \n",
    "    def respirar(self):\n",
    "        print(\"Estoy respirando\")\n",
    "\n",
    "class Perro(Animal):\n",
    "\n",
    "    def ladrar(self):\n",
    "        print(f\"Hola soy {self.nombre}. Guau guau\")\n",
    "\n",
    "class Gato(Animal):\n",
    "    def maullar(self):\n",
    "        print(f\"Hola soy {self.nombre}. Miauuuu\")\n",
    "\n",
    "millord = Perro(\"Millord\", 4, 2)\n",
    "millord.ladrar()\n",
    "\n",
    "shang= Gato(\"Shang\", 4, 2)\n",
    "shang.maullar()"
   ]
  },
  {
   "cell_type": "code",
   "execution_count": 98,
   "id": "ac5adaa0",
   "metadata": {},
   "outputs": [
    {
     "name": "stdout",
     "output_type": "stream",
     "text": [
      "Hola soy Jimena\n",
      "Hola soy Isaac\n"
     ]
    }
   ],
   "source": [
    "\"\"\"\n",
    "8. Clase Empleado → hijas Programador, Diseñador.\n",
    "Todos tienen nombre y salario, pero solo los programadores tienen lenguaje favorito.\n",
    "¿Cómo lo modelarías?\n",
    "\"\"\"\n",
    "\n",
    "class Empleado:\n",
    "\n",
    "    def __init__(self, nombre, salario):\n",
    "        self.nombre = nombre\n",
    "        self.salario = salario\n",
    "    \n",
    "    def presentarse(self):\n",
    "        print(f\"Hola soy {self.nombre}\")\n",
    "\n",
    "class Programador(Empleado):\n",
    "\n",
    "    def __init__(self, nombre, salario, lenguaje_favorito):\n",
    "        super().__init__(nombre,salario)\n",
    "        self.lenguaje_favorito = lenguaje_favorito\n",
    "\n",
    "    \n",
    "class Diseñador(Empleado):\n",
    "\n",
    "    def __init__(self, nombre, salario, herramienta_favorita):\n",
    "        super().__init__(nombre, salario)\n",
    "        self.herramienta_favorita = herramienta_favorita\n",
    "\n",
    "programador1 = Programador(\"Jimena\", 3000000, \"Python\")\n",
    "diseñador1 = Diseñador(\"Isaac\", 210000, \"PhotoShop\")\n",
    "programador1.presentarse()\n",
    "diseñador1.presentarse()"
   ]
  },
  {
   "cell_type": "code",
   "execution_count": 11,
   "id": "06802d9e",
   "metadata": {},
   "outputs": [
    {
     "name": "stdout",
     "output_type": "stream",
     "text": [
      "Contraseña correcta\n"
     ]
    }
   ],
   "source": [
    "## ENCAPSULAMIENTO\n",
    "\"\"\"\n",
    "9. Tenés una clase CajaFuerte. Solo puede abrirse si se introduce el código correcto.\n",
    "¿Cómo protegerías ese código para que nadie lo lea directamente?\n",
    "\"\"\"\n",
    "class CajaFuerte:\n",
    "\n",
    "    def __init__(self):\n",
    "        self.__contraseña = \"Hola\"\n",
    "\n",
    "    def abrir_caja(self, contraseña_usuario):\n",
    "        if contraseña_usuario == self.__contraseña:\n",
    "            print(\"Contraseña correcta\")\n",
    "        else:\n",
    "            print(\"Las contraseñas no coinciden\")\n",
    "\n",
    "intento = CajaFuerte()\n",
    "intento_usuario = input(\"Ingresa la contraseña correcta\")\n",
    "intento.abrir_caja(intento_usuario)\n",
    "\n"
   ]
  },
  {
   "cell_type": "code",
   "execution_count": null,
   "id": "7297ad7f",
   "metadata": {},
   "outputs": [
    {
     "name": "stdout",
     "output_type": "stream",
     "text": [
      "No puedes leer el diario\n"
     ]
    }
   ],
   "source": [
    "\"\"\"\n",
    "10. Clase DiarioPersonal. Solo puede leerse si el usuario se ha identificado.\n",
    "¿Cómo lo restringirías desde dentro de la clase?\n",
    "\"\"\"\n",
    "\n",
    "class DiarioPersonal:\n",
    "\n",
    "    def __init__(self):\n",
    "        self.__contraseña = \"1234\"\n",
    "\n",
    "    def abrir(self, contraseña_usuario):\n",
    "        if contraseña_usuario == self.__contraseña:\n",
    "            print(\"Puedes leer el diario\")\n",
    "        else:\n",
    "            print(\"No puedes leer el diario\")\n",
    "\n",
    "diario = DiarioPersonal()\n",
    "usuario = input(\"Ingresa una combinacion de 4 numeros: \")\n",
    "diario.abrir(usuario)"
   ]
  },
  {
   "cell_type": "code",
   "execution_count": null,
   "id": "b2c26537",
   "metadata": {},
   "outputs": [],
   "source": [
    "\"\"\"\n",
    "EJERCICIO OPCIONAL - RELACIÓN ENTRE OBJETOS\n",
    "11. Clase Libro y clase Biblioteca\n",
    "Una biblioteca puede tener muchos libros. Cada libro tiene título, autor y año de publicación.\n",
    "\n",
    "✏️ Consigna:\n",
    "Creá una clase Libro con los atributos mencionados.\n",
    "\n",
    "Creá una clase Biblioteca que contenga una lista de libros.\n",
    "\n",
    "Implementá métodos para: agregar un libro a la biblioteca, mostrar todos los libros, buscar libros por título.\n",
    "\n",
    "Pregunta clave: ¿Cómo harías para que una biblioteca pueda administrar muchos libros distintos, sin mezclarlos ni perder control sobre la información?\n",
    "\"\"\"\n",
    "class Libro():\n",
    "\n",
    "    def __init__(self, titulo, autor, año_de_publicacion):\n",
    "        self.titulo = titulo\n",
    "        self.autor = autor\n",
    "        self.año_de_publicacion = año_de_publicacion\n",
    "\n",
    "class Biblioteca:\n",
    "\n",
    "    def __init__(self, libros):\n",
    "        self.libros = libros\n",
    "\n",
    "    def agregar_libros(self,libro):\n",
    "        self.libros.append(libro)\n",
    "        print(f\"Has agregado {libro.titulo} de {libro.autor} ({libro.año_de_publicacion}) a la biblioteca\")\n",
    "\n",
    "    def mostrar_libros(self):\n",
    "        print(\"La biblioteca tiene los siguientes libros: \")\n",
    "        for libro in self.libros:\n",
    "            print(f\"- {libro.titulo} de {libro.autor} ({libro.año_de_publicacion})\")\n",
    "\n",
    "    def buscar_libros(self, pedido):\n",
    "        for libro in self.libros:\n",
    "            if libro.titulo.lower() == pedido.lower():\n",
    "                print(f\"Encontramos coincidencias con '{libro.titulo}'\")\n",
    "                return\n",
    "        print(\"No encontramos el titulo solicitado\")\n",
    "\n",
    "\n",
    "libro1 = Libro(\"Harry Potter\", \"Jk Rowling\", 2007)\n",
    "libro2 = Libro(\"Divergent\", \"Lujan\", 2009)\n",
    "libro3 = Libro(\"Insurgent\", \"Lujan\", 2013)\n",
    "libro_biblioteca = Biblioteca([])\n",
    "libro_biblioteca.agregar_libros(libro1)\n",
    "libro_biblioteca.agregar_libros(libro2)\n",
    "libro_biblioteca.agregar_libros(libro3)\n",
    "libro_biblioteca.mostrar_libros()\n",
    "\n",
    "###\n",
    "pedido_usuario = input(\"Busca un libro por su titulo: \")\n",
    "libro_biblioteca.buscar_libros(pedido_usuario)"
   ]
  },
  {
   "cell_type": "code",
   "execution_count": null,
   "id": "eaf68b58",
   "metadata": {},
   "outputs": [],
   "source": [
    "\"\"\"\n",
    "CLASES Y RELACIONES BÁSICAS\n",
    "1. Clase Mapa y Clase Celda\n",
    "Crea una clase Mapa que contenga una matriz de objetos Celda.\n",
    "Cada celda puede representar terreno normal, obstáculo, entrada o salida.\n",
    "Agregá métodos para inicializar el mapa con distintos símbolos.\n",
    "\n",
    "\"\"\"\n",
    "\n",
    "class Mapa:\n",
    "\n",
    "    def __init__(self, filas, columnas):\n",
    "        self.filas = filas\n",
    "        self.columnas = columnas\n",
    "        self.matriz = [[Celda() for _ in range(columnas)] for _ in range(filas)]\n",
    "    \n",
    "class Celda:\n",
    "\n",
    "    def __init__(self, filas, columnas):\n",
    "        self.filas = filas\n",
    "        self.columnas = columnas\n",
    "\n",
    "    def agregar_entrada(self):\n",
    "        pass\n"
   ]
  },
  {
   "cell_type": "code",
   "execution_count": null,
   "id": "d1c8b93b",
   "metadata": {},
   "outputs": [],
   "source": [
    "class Mapa:\n",
    "\n",
    "    def __init__(self, filas, columnas, matriz, entrada, salida):\n",
    "        self.filas = filas\n",
    "        self.columnas = columnas\n",
    "        self.matriz = matriz\n",
    "        self.entrada = entrada\n",
    "        self.salida = salida\n",
    "\n",
    "    def mostrar_matriz(self, matriz):\n",
    "        for x in matriz:\n",
    "            print(\" \".join(x))\n",
    "        print()\n",
    "\n",
    "    def coordenada_valida(self, fila, columna):\n",
    "        return 0 <= fila < self.filas and 0 <= columna < self.columnas\n",
    "\n",
    "    def colocar_entrada(self, fila_e, columna_e):\n",
    "        self.matriz[fila_e][columna_e] = \"E\"\n",
    "\n",
    "    def colocar_salida(self, fila_s, columna_s):\n",
    "        self.matriz[fila_s][columna_s] = \"S\"\n",
    "\n",
    "    def celdas_diferentes(self):\n",
    "        pass\n",
    "\n",
    "filas_usuario = int(input(\"Ingresa la cantidad de filas para el tablero: \"))\n",
    "columnas_usuario = int(input(\"Ingresa la cantidad de columnas para el tablero: \"))\n",
    "\n",
    "coord_fila_entrada = int(input(\"Ingresa en que fila estará la ENTRADA\"))\n",
    "coord_columna_entrada = int(input(\"Ingresa en que columna estará la ENTRADA\"))\n",
    "\n",
    "coord_fila_salida = int(input(\"Ingresa en que fila estará la SALIDA\"))\n",
    "coord_columna_salida = int(input(\"Ingresa en que columna estará la SALIDA\"))\n",
    "matriz = [[\".\" for _ in range(columnas_usuario)] for _ in range(filas_usuario)]\n",
    "mapa = Mapa(filas_usuario,columnas_usuario,matriz,(coord_fila_entrada,coord_columna_entrada),(coord_fila_salida,coord_columna_salida))\n",
    "mapa.colocar_entrada(coord_fila_entrada,coord_columna_entrada)\n",
    "mapa.colocar_salida(coord_fila_salida,coord_columna_salida)\n",
    "mapa.mostrar_matriz(mapa.matriz)"
   ]
  },
  {
   "cell_type": "code",
   "execution_count": null,
   "id": "537eb70d",
   "metadata": {},
   "outputs": [],
   "source": [
    "\"\"\"\n",
    "2. Clase Jugador y Movimiento\n",
    "Diseñá una clase Jugador que tenga posición (x, y) sobre el mapa.\n",
    "Implementá métodos para mover al jugador arriba, abajo, izquierda o derecha.\n",
    "La posición debe actualizarse solo si el movimiento es válido (sin salirse del mapa ni pisar obstáculos).\n",
    "\n",
    "\"\"\""
   ]
  },
  {
   "cell_type": "code",
   "execution_count": null,
   "id": "971c551e",
   "metadata": {},
   "outputs": [],
   "source": [
    "\"\"\"\n",
    "3. Ruta como Lista de Coordenadas\n",
    "Crea una clase Ruta que almacene una secuencia de coordenadas como pasos recorridos.\n",
    "Agregá un método para agregar pasos a la ruta y otro para mostrarla en orden.\n",
    "\n",
    "\"\"\""
   ]
  },
  {
   "cell_type": "code",
   "execution_count": null,
   "id": "5b74755d",
   "metadata": {},
   "outputs": [],
   "source": [
    "\"\"\"\n",
    "4. Clase AlgoritmoBusqueda como Base\n",
    "Crea una clase base AlgoritmoBusqueda con un método resolver() vacío.\n",
    "Luego creá una subclase BFS que implemente el método para encontrar una ruta válida entre dos puntos.\n",
    "\n",
    "\"\"\""
   ]
  },
  {
   "cell_type": "code",
   "execution_count": null,
   "id": "0834fd0d",
   "metadata": {},
   "outputs": [],
   "source": [
    "\"\"\"\n",
    "5. Visualización del Tablero\n",
    "Crea un método dentro de Mapa que muestre por consola el estado actual, incluyendo símbolos para:\n",
    "\n",
    "obstáculos,\n",
    "\n",
    "entrada/salida,\n",
    "\n",
    "pasos de la ruta.\n",
    "\n",
    "Debe actualizarse en tiempo real al recorrer.\n",
    "\n",
    "\"\"\""
   ]
  },
  {
   "cell_type": "code",
   "execution_count": null,
   "id": "89eb6e17",
   "metadata": {},
   "outputs": [],
   "source": [
    "\"\"\"\n",
    "6. Edición Manual del Mapa (modo sandbox)\n",
    "Diseñá un sistema que permita al usuario agregar o quitar elementos del mapa manualmente antes de ejecutar el algoritmo.\n",
    "Debe ser posible seleccionar coordenadas y elegir qué colocar.\n",
    "\n",
    "\"\"\""
   ]
  },
  {
   "cell_type": "code",
   "execution_count": null,
   "id": "391e9d3f",
   "metadata": {},
   "outputs": [],
   "source": [
    "\"\"\"\n",
    "\n",
    "7. Clase Terreno con Costos\n",
    "Crea una clase Terreno con un atributo costo para caminar sobre él.\n",
    "Usá diferentes tipos de terrenos (pasto, barro, agua) y asignales costos diferentes.\n",
    "Cada celda del mapa debe tener un tipo de terreno.\n",
    "\n",
    "\"\"\""
   ]
  },
  {
   "cell_type": "code",
   "execution_count": null,
   "id": "03553e13",
   "metadata": {},
   "outputs": [],
   "source": [
    "\"\"\"\n",
    "\n",
    "8. Clase Coordenada\n",
    "Crea una clase Coordenada que tenga x e y, y métodos para:\n",
    "\n",
    "Comparar si dos coordenadas son iguales,\n",
    "\n",
    "Obtener coordenadas vecinas.\n",
    "\n",
    "\"\"\""
   ]
  },
  {
   "cell_type": "code",
   "execution_count": null,
   "id": "4e88019e",
   "metadata": {},
   "outputs": [],
   "source": [
    "\"\"\"\n",
    "9. Historial de rutas intentadas\n",
    "Diseñá una clase que almacene rutas fallidas y exitosas para un mismo mapa.\n",
    "Debe poder guardar múltiples rutas y listarlas al final del programa.\n",
    "\n",
    "\"\"\""
   ]
  },
  {
   "cell_type": "code",
   "execution_count": null,
   "id": "d483787a",
   "metadata": {},
   "outputs": [],
   "source": [
    "\"\"\"\n",
    "10. Restricción dinámica (obstáculos que aparecen)\n",
    "Crea un sistema donde una celda del mapa pueda cambiar de estado (de libre a obstáculo) mientras se ejecuta el algoritmo.\n",
    "Esto debe afectar la ruta actual y forzar recalculaciones si es necesario.\n",
    "\"\"\""
   ]
  },
  {
   "cell_type": "code",
   "execution_count": null,
   "id": "daa24b02",
   "metadata": {},
   "outputs": [
    {
     "name": "stdout",
     "output_type": "stream",
     "text": [
      "Las coordenadas dadas para SALIDA deben estar dentro del tablero\n",
      "E . . . .\n",
      ". . . . .\n",
      ". . . . .\n",
      ". . . . .\n",
      ". . . . S\n",
      "\n"
     ]
    }
   ],
   "source": [
    "### ESTE ESTÁ BIEN\n",
    "class Mapa:\n",
    "\n",
    "    def __init__(self, filas, columnas):\n",
    "        self.filas = filas\n",
    "        self.columnas = columnas\n",
    "        self.matriz = [[\".\" for _ in range(columnas)] for _ in range(filas)]\n",
    "        self.entrada = None\n",
    "        self.salida = None\n",
    "\n",
    "    def colocar_entrada(self, fila_e, columna_e):\n",
    "        self.matriz[fila_e][columna_e] = \"E\"\n",
    "\n",
    "    def colocar_salida(self, fila_s, columna_s):\n",
    "        self.matriz[fila_s][columna_s] = \"S\"\n",
    "\n",
    "    def mostrar_matriz(self):\n",
    "        for x in self.matriz:\n",
    "            print(\" \".join(x))\n",
    "        print()\n",
    "\n",
    "    def coordenada_valida(self, fila, columna):\n",
    "        return 0 <= fila < self.filas and 0 <= columna < self.columnas\n",
    "\n",
    "    def colocar_obstaculos(self):\n",
    "        pass\n",
    "\n",
    "    # Colocar esta funcion afuera (suelta)\n",
    "    def celdas_diferentes(self):\n",
    "        pass\n",
    "\n",
    "def main():\n",
    "    filas_usuario = int(input(\"Ingresa la cantidad de filas para el tablero: \"))\n",
    "    columnas_usuario = int(input(\"Ingresa la cantidad de columnas para el tablero: \"))\n",
    "\n",
    "    mapa = Mapa(filas_usuario,columnas_usuario)\n",
    "\n",
    "    while True:\n",
    "        coord_fila_entrada = int(input(\"Ingresa en que fila estará la ENTRADA\"))\n",
    "        coord_columna_entrada = int(input(\"Ingresa en que columna estará la ENTRADA\"))\n",
    "\n",
    "        coord_fila_salida = int(input(\"Ingresa en que fila estará la SALIDA\"))\n",
    "        coord_columna_salida = int(input(\"Ingresa en que columna estará la SALIDA\"))\n",
    "        \n",
    "        if not mapa.coordenada_valida(coord_fila_entrada, coord_columna_entrada):\n",
    "            print(\"Las coordenadas dadas para ENTRADA deben estar dentro del tablero\")\n",
    "            continue\n",
    "        \n",
    "        if not mapa.coordenada_valida(coord_fila_salida, coord_columna_salida):\n",
    "            print(\"Las coordenadas dadas para SALIDA deben estar dentro del tablero\")\n",
    "            continue\n",
    "\n",
    "        break\n",
    "        \n",
    "    mapa.colocar_entrada(coord_fila_entrada,coord_columna_entrada)\n",
    "    mapa.colocar_salida(coord_fila_salida,coord_columna_salida)\n",
    "    mapa.mostrar_matriz()\n",
    "\n",
    "if __name__ == '__main__':\n",
    "    main()"
   ]
  }
 ],
 "metadata": {
  "kernelspec": {
   "display_name": "Python 3",
   "language": "python",
   "name": "python3"
  },
  "language_info": {
   "codemirror_mode": {
    "name": "ipython",
    "version": 3
   },
   "file_extension": ".py",
   "mimetype": "text/x-python",
   "name": "python",
   "nbconvert_exporter": "python",
   "pygments_lexer": "ipython3",
   "version": "3.11.9"
  }
 },
 "nbformat": 4,
 "nbformat_minor": 5
}
