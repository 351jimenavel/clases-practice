{
 "cells": [
  {
   "cell_type": "markdown",
   "id": "4f475454",
   "metadata": {},
   "source": [
    "# Fundamentos de Redes y Websockets\n",
    "## By Ceci"
   ]
  },
  {
   "cell_type": "markdown",
   "id": "f55f2032",
   "metadata": {},
   "source": [
    "----- red lan\n",
    "----- la capa ip (internet protocol) de redes utiliza algortimos de busqueda para encontrar la mejor ruta (el más común es Djisktra)\n"
   ]
  },
  {
   "cell_type": "markdown",
   "id": "7f0ce29c",
   "metadata": {},
   "source": [
    "### HTTP: Protocolo de transferencia de hipertexto\n",
    "--> Métodos HTTP (las acciones que puede hacer)\n",
    "1. GET\n",
    "2. DELETE\n",
    "3. POST\n",
    "4. PUT  (Modifica completamente)\n",
    "5. PATCH    (Modifica parcialmente, según se quiera)\n"
   ]
  },
  {
   "cell_type": "code",
   "execution_count": null,
   "id": "5163a549",
   "metadata": {},
   "outputs": [],
   "source": [
    "# Laboratorio de Websockets - Práctica\n"
   ]
  }
 ],
 "metadata": {
  "language_info": {
   "name": "python"
  }
 },
 "nbformat": 4,
 "nbformat_minor": 5
}
