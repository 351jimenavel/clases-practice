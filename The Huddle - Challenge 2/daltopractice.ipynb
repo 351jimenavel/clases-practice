{
 "cells": [
  {
   "cell_type": "markdown",
   "id": "30b8b853",
   "metadata": {},
   "source": [
    "### Video de soyDalto\n",
    "https://www.youtube.com/watch?v=HtKqSJX7VoM"
   ]
  },
  {
   "cell_type": "code",
   "execution_count": null,
   "id": "d957ac89",
   "metadata": {},
   "outputs": [],
   "source": [
    "## Que pasa si no uso POO?\n",
    "celular1_marca = \"Samsung\"\n",
    "celular2_marca = \"Apple\"\n",
    "celular3_marca = \"Xiaomi\"\n",
    "\n",
    "celular1_modelo = \"S23\"\n",
    "celular2_modelo = \"iPhone 15\"\n",
    "celular3_modelo = \"S4323\"\n",
    "\n",
    "celular1_camaraF = \"24MP\"\n",
    "celular2_camaraF = \"24MP\"\n",
    "celular3_camaraF = \"8MP\"\n",
    "\n",
    "celular1_camaraT = \"48MP\"\n",
    "celular2_camaraT = \"48MP\"\n",
    "celular3_camaraT = \"12MP\"\n",
    "\n",
    "## No es viable, optimo, legible, etc.\n"
   ]
  },
  {
   "cell_type": "code",
   "execution_count": null,
   "id": "186b9f10",
   "metadata": {},
   "outputs": [
    {
     "name": "stdout",
     "output_type": "stream",
     "text": [
      "<__main__.Celular object at 0x00000200A89DDC50>\n",
      "Samsung\n",
      "S23\n",
      "48MP\n"
     ]
    }
   ],
   "source": [
    "## Clases y Objetos\n",
    "# Clases -- La receta para describir un objeto (carac, cualidades, etc)\n",
    "\n",
    "## Se usa PascalCase para definir una clase (RECOMENDACION, convencion estandar)\n",
    "## palabra reservada class\n",
    "class NombreClase():\n",
    "    propiedad1 = \"Valor 1\"\n",
    "    propiedad2 = \"Valor 2\"\n",
    "    propiedad3 = \"Valor 3\"\n",
    "\n",
    "\n",
    "class Celular():\n",
    "    ## ATRIBUTOS ESTÁTICOS (van a ser iguales para todos los objetos)\n",
    "    ### Aún no estoy creando un objeto\n",
    "    marca = \"Samsung\"\n",
    "    modelo = \"S23\"\n",
    "    camara = \"48MP\"\n",
    "\n",
    "## Esto es como una fabrica que solo produce celulares de marca samsung, del modelo y camara definidos\n",
    "celular1 = Celular()\n",
    "celular2 = Celular()\n",
    "celular3 = Celular()\n",
    "print(celular1)\n",
    "print(celular1.marca)\n",
    "print(celular2.modelo)\n",
    "print(celular3.camara)\n"
   ]
  },
  {
   "cell_type": "code",
   "execution_count": null,
   "id": "7793bb49",
   "metadata": {},
   "outputs": [],
   "source": [
    "## ATRIBUTOS INSTANCIA\n",
    "class Celular:\n",
    "\n",
    "    # MÉTODO CONSTRUCTOR (es lo primero que se va a ejecutar al momento de instanciar/crear un objeto)\n",
    "    def __init__(self, marca, modelo, camara):\n",
    "        # Creo la propiedad de self, para luego acceder al parametro\n",
    "        self.marca = marca\n",
    "        self.modelo = modelo\n",
    "        self.camara = camara\n",
    "    \n",
    "celular1 = Celular(\"Samsung\", \"S23\", \"48MP\")\n",
    "celular2 = Celular(\"Apple\", \"iPhone 15\", \"96MP\")"
   ]
  },
  {
   "cell_type": "code",
   "execution_count": 5,
   "id": "58595d10",
   "metadata": {},
   "outputs": [
    {
     "name": "stdout",
     "output_type": "stream",
     "text": [
      "Estas haciendo un llamado desde un: S23\n",
      "Cortaste la llamada desde tu: S23\n",
      "Estas haciendo un llamado desde un: iPhone 15\n",
      "Cortaste la llamada desde tu: iPhone 15\n"
     ]
    }
   ],
   "source": [
    "## MÉTODOS (acciones que puede realizar un objeto) (es una función dentro de una clase)\n",
    "class Celular:\n",
    "\n",
    "    # MÉTODO CONSTRUCTOR (es lo primero que se va a ejecutar al momento de instanciar/crear un objeto)\n",
    "    def __init__(self, marca, modelo, camara):\n",
    "        # Creo la propiedad de self, para luego acceder al parametro\n",
    "        self.marca = marca\n",
    "        self.modelo = modelo\n",
    "        self.camara = camara\n",
    "\n",
    "    ## Self es muy importante porque el objeto debe referenciarse a sí mismo\n",
    "    def llamar(self):\n",
    "        print(f\"Estas haciendo un llamado desde un: {self.modelo}\")\n",
    "\n",
    "    def cortar(self):\n",
    "        print(f\"Cortaste la llamada desde tu: {self.modelo}\")\n",
    "    \n",
    "    \n",
    "celular1 = Celular(\"Samsung\", \"S23\", \"48MP\")\n",
    "celular2 = Celular(\"Apple\", \"iPhone 15\", \"96MP\")\n",
    "\n",
    "celular1.llamar()\n",
    "celular1.cortar()\n",
    "\n",
    "celular2.llamar()\n",
    "celular2.cortar()"
   ]
  },
  {
   "cell_type": "code",
   "execution_count": 20,
   "id": "b628e87d",
   "metadata": {},
   "outputs": [
    {
     "name": "stdout",
     "output_type": "stream",
     "text": [
      "\n",
      "    DATOS DEL ESTUDIANTE: \n",
      "\n",
      "    Nombre: Jimena\n",
      "    Edad: 18\n",
      "    Grado: 3ro\n",
      "\n",
      "El estudiante Jimena está estudiando\n"
     ]
    }
   ],
   "source": [
    "#### EJERCICIO 1\n",
    "\"\"\"\n",
    "Crear una clase Estudiante que tenga los atributos de nombre, edad y grado.\n",
    "Agregar un método que se llame estudiar que imprima el siguiente mensaje: \"El estudiante (nombre) está estudiando\"\n",
    "Se debe interactuar con el usuario y este debe brindar los atributos.\n",
    "Si después de instanciar la clase el usuario escribe \"estudiar\" utilizar el método estudiar() (no case sensitive)\n",
    "\"\"\"\n",
    "class Estudiante:\n",
    "\n",
    "    def __init__(self, nombre, edad, grado):\n",
    "        self.nombre = nombre\n",
    "        self.edad = edad\n",
    "        self.grado = grado\n",
    "\n",
    "    def estudiar(self):\n",
    "        return f\"El estudiante {self.nombre} está estudiando\"\n",
    "    \n",
    "nombre_usuario = input(\"Ingrese el nombre del estudiante: \")\n",
    "edad_usuario = int(input(\"Ingrese la edad del estudiante: \"))\n",
    "grado_usuario = input(\"Ingrese el grado del estudiante. Ej: '8vo grado': \")\n",
    "estudiante1 = Estudiante(nombre_usuario, edad_usuario, grado_usuario)\n",
    "\n",
    "print(f\"\"\"\n",
    "    DATOS DEL ESTUDIANTE: \\n\n",
    "    Nombre: {estudiante1.nombre}\n",
    "    Edad: {estudiante1.edad}\n",
    "    Grado: {estudiante1.grado}\n",
    "\"\"\")\n",
    "\n",
    "estudiar = input()\n",
    "if (estudiar.lower() == \"estudiar\"):\n",
    "    print(estudiante1.estudiar())\n"
   ]
  },
  {
   "cell_type": "code",
   "execution_count": null,
   "id": "d1ec250f",
   "metadata": {},
   "outputs": [
    {
     "name": "stdout",
     "output_type": "stream",
     "text": [
      "Programador\n",
      "43\n",
      "Hola estoy hablando\n"
     ]
    }
   ],
   "source": [
    "## HERENCIA\n",
    "\n",
    "### 1. Herencia simple\n",
    "class Persona:  # Superclase\n",
    "    def __init__(self, nombre, edad, nacionalidad):\n",
    "        self.nombre = nombre\n",
    "        self.edad = edad\n",
    "        self.nacionalidad = nacionalidad\n",
    "\n",
    "    def hablar(self):\n",
    "        print(\"Hola estoy hablando\")\n",
    "\n",
    "class Empleado(Persona):    # Subclase\n",
    "    def __init__(self, nombre, edad, nacionalidad, trabajo, salario):\n",
    "        # Super es una funcion -- deriva de 'Superclass'\n",
    "        ## que permite acceder a las propiedades de la clase padre (\"Qué es lo que quiero que herede\")\n",
    "        super().__init__(nombre,edad,nacionalidad)\n",
    "        self.trabajo = trabajo\n",
    "        self.salario = salario\n",
    "\n",
    "roberto = Empleado(\"Roberto\", 43, \"argentino\", \"Programador\", 100000)\n",
    "print(roberto.trabajo)\n",
    "print(roberto.edad)\n",
    "roberto.hablar()\n",
    "print()\n",
    "\n",
    "### 2. Herencia Jerarquica\n",
    "# Ejemplo: Ahora no solo existe la subclase Empleado, sino también, Estudiante y Jefe\n",
    "class Persona:  # Superclase\n",
    "    def __init__(self, nombre, edad, nacionalidad):\n",
    "        self.nombre = nombre\n",
    "        self.edad = edad\n",
    "        self.nacionalidad = nacionalidad\n",
    "\n",
    "    def hablar(self):\n",
    "        print(\"Hola estoy hablando\")\n",
    "\n",
    "class Empleado(Persona):    # Subclase\n",
    "    def __init__(self, nombre, edad, nacionalidad, trabajo, salario):\n",
    "        super().__init__(nombre,edad,nacionalidad)\n",
    "        self.trabajo = trabajo\n",
    "        self.salario = salario\n",
    "\n",
    "class Estudiante(Persona):\n",
    "    def __init__(self, nombre, edad, nacionalidad, grado, promedio):\n",
    "        super().__init__(nombre,edad,nacionalidad)\n",
    "        self.grado = grado\n",
    "        self.promedio = promedio\n",
    "    "
   ]
  },
  {
   "cell_type": "code",
   "execution_count": 8,
   "id": "33064ead",
   "metadata": {},
   "outputs": [
    {
     "name": "stdout",
     "output_type": "stream",
     "text": [
      "Hola soy Roberto, mi habilidad es cantar y trabajo en Google\n",
      "True\n",
      "True\n",
      "True\n",
      "True\n",
      "True\n"
     ]
    }
   ],
   "source": [
    "### 3. HERENCIA MULTIPLE\n",
    "# Una subclase que hereda de dos clases\n",
    "\n",
    "class Persona:  # Superclase\n",
    "    def __init__(self, nombre, edad, nacionalidad):\n",
    "        self.nombre = nombre\n",
    "        self.edad = edad\n",
    "        self.nacionalidad = nacionalidad\n",
    "\n",
    "    def hablar(self):\n",
    "        print(\"Hola estoy hablando\")\n",
    "\n",
    "class Artista:\n",
    "    def __init__(self, habilidad):\n",
    "        self.habilidad = habilidad\n",
    "\n",
    "    def mostrar_habilidad(self):\n",
    "        return f\"mi habilidad es {self.habilidad}\"\n",
    "\n",
    "class EmpleadoArtista(Persona, Artista):\n",
    "    # Creamos un método constructor que nos va a permitir heredar...\n",
    "    def __init__(self, nombre, edad, nacionalidad, habilidad, salario, empresa):\n",
    "        ## de Persona estas propiedades (Se accede al método constructor de la clase Persona)\n",
    "        Persona.__init__(self,nombre,edad,nacionalidad)\n",
    "        ## Y de Artista esta propiedad (Se accede al método constructor de la clase Artista)\n",
    "        Artista.__init__(self,habilidad)\n",
    "        ## \n",
    "        self.salario = salario\n",
    "        self.empresa = empresa\n",
    "\n",
    "    ### Se coloca este para el ejemplo abajo **\n",
    "    def mostrar_habilidad(self):\n",
    "        return \"No tengo\"\n",
    "    \n",
    "    def presentarse(self):\n",
    "        ## se utiliza el super porque es como decirle al programa que mostrar habilidad es un método heredado de arriba. No es un método llamado desde self.\n",
    "        ### ** return f\"{self.mostrar_habilidad()}\"  dará como output: \"No tengo\"\n",
    "        return f\"Hola soy {self.nombre}, {super().mostrar_habilidad()} y trabajo en {self.empresa}\"     # dará como output: \"Mi habilidad es ( )\"\n",
    "    \n",
    "\n",
    "roberto = EmpleadoArtista(\"Roberto\", 20, \"argentino\", \"cantar\", 20000, \"Google\")\n",
    "print(roberto.presentarse())\n",
    "\n",
    "herencia = issubclass(EmpleadoArtista, Artista)\n",
    "herencia2 = issubclass(EmpleadoArtista, Persona)\n",
    "print(herencia)\n",
    "print(herencia2)\n",
    "\n",
    "instancia = isinstance(roberto, EmpleadoArtista)\n",
    "instancia2 = isinstance(roberto, Artista)\n",
    "instancia3 = isinstance(roberto, Persona)\n",
    "print(instancia)\n",
    "print(instancia2)\n",
    "print(instancia3)"
   ]
  },
  {
   "cell_type": "code",
   "execution_count": 16,
   "id": "cde6952f",
   "metadata": {},
   "outputs": [
    {
     "name": "stdout",
     "output_type": "stream",
     "text": [
      "Hola desde D\n",
      "[<class '__main__.D'>, <class '__main__.B'>, <class '__main__.C'>, <class '__main__.A'>, <class 'object'>]\n",
      "Hola desde B\n",
      "Hola desde C\n",
      "Hola desde A\n"
     ]
    }
   ],
   "source": [
    "### 4. MRO (MÉTODO DE RESOLUCION DE ORDEN)(METHOD RESOLUTION ORDER)\n",
    "#### Es el orden en el que Python va a ver los métodos y atributos de una clase para ejecutarlos según prioridad\n",
    "\n",
    "# Ej:\n",
    "class A:\n",
    "    def hablar(self):\n",
    "        print(\"Hola desde A\")\n",
    "\n",
    "class B(A):\n",
    "    def hablar(self):\n",
    "        print(\"Hola desde B\")\n",
    "\n",
    "class C(A):\n",
    "    def hablar(self):\n",
    "        print(\"Hola desde C\")\n",
    "\n",
    "class D(B,C):\n",
    "    def hablar(self):\n",
    "        print(\"Hola desde D\")\n",
    "\n",
    "d = D()\n",
    "d.hablar()\n",
    "print(D.mro())\n",
    "\n",
    "B.hablar(d)\n",
    "C.hablar(d)\n",
    "A.hablar(d)\n",
    "# Output de prioridad (Según tengan o no el método hablar)\n",
    "## D > B > C > A\n",
    "## Por como es el orden en que recibe la herencia (ES COMO UN ARBOL DE PRIORIDAD)\n",
    "### video: 1:17:00\n",
    "\n"
   ]
  },
  {
   "cell_type": "code",
   "execution_count": null,
   "id": "25148258",
   "metadata": {},
   "outputs": [],
   "source": [
    "\"\"\"\n",
    "Ejercicio 2. Herencia y uso de super\n",
    "\n",
    "Crear un sistema para una escuela. En este sistema, vamos a tener dos clases principales:\n",
    "Persona y Estudiante. La clase Persona tendrá los atributos de nombre y edad y un método que imprima el nombre y la edad de la persona. \n",
    "La clase Estudiante herederá de la clase Persona y también tendrá un atributo adicional: grado y un método que imprima el grado del estudiante.\n",
    "Deberá utilizar super en el método de inicializacion (init) para reutilizar el código de la clase padre (Persona). \n",
    "Luego crea una instancia de la clase Estudiante e imprime sus atributos y utiliza sus métodos para asegurarte de que todo funciona correctamente.\n",
    "\"\"\""
   ]
  },
  {
   "cell_type": "code",
   "execution_count": null,
   "id": "bb4b715d",
   "metadata": {},
   "outputs": [
    {
     "name": "stdout",
     "output_type": "stream",
     "text": [
      "Jimena\n",
      "18\n",
      "3ro\n",
      "Hola soy Jimena y tengo 18 años\n",
      "Estoy en 3ro de la media\n"
     ]
    }
   ],
   "source": [
    "# Crear clase Persona\n",
    "class Persona:\n",
    "## atributos como nombre y edad\n",
    "    def __init__(self, nombre, edad):\n",
    "        self.nombre = nombre\n",
    "        self.edad = edad\n",
    "## método para imprimir los atributos\n",
    "    def presentarse(self):\n",
    "        print(f\"Hola soy {self.nombre} y tengo {self.edad} años\")\n",
    "\n",
    "# Crear clase Estudiante\n",
    "class Estudiante(Persona):\n",
    "## Hereda de Persona\n",
    "## + atributo: grado\n",
    "    def __init__(self, nombre, edad, grado):\n",
    "        super().__init__(nombre, edad)\n",
    "        self.grado = grado\n",
    "## método para imprimir el atributo\n",
    "    def mostrar_grado(self):\n",
    "        print(f\"Estoy en {self.grado} de la media\")\n",
    "\n",
    "estudiante1 = Estudiante(\"Jimena\", 18, \"3ro\")\n",
    "print(estudiante1.nombre)\n",
    "print(estudiante1.edad)\n",
    "print(estudiante1.grado)\n",
    "estudiante1.presentarse()\n",
    "estudiante1.mostrar_grado()\n"
   ]
  },
  {
   "cell_type": "code",
   "execution_count": null,
   "id": "94f4a436",
   "metadata": {},
   "outputs": [],
   "source": [
    "\"\"\"\n",
    "Ejercicio 3. Herencia Múltiple y MRO\n",
    "Imagina que estás modelando animales en un zoológico. Crear tres clases: \"Animal\", \"Mamífero\" y \"Ave\". \n",
    "La clase Animal debe tener un método llamado comer.\n",
    "La clase Mamifero debe tener un método llamado amamantar y la clase Ave un método llamado volar.\n",
    "Ahora, crea una clase Murcielago que herede de Mamifero y Ave, en ese orden, y por lo tanto debe ser capaz de amamantar y volar, ademas de comer.\n",
    "Finalmente, juego con el orden de herencia de la clase Murcielago y observa cómo cambia el MRO y el comportamiento de los métodos al usar super()\n",
    "\"\"\""
   ]
  },
  {
   "cell_type": "code",
   "execution_count": 12,
   "id": "2ce500b8",
   "metadata": {},
   "outputs": [
    {
     "name": "stdout",
     "output_type": "stream",
     "text": [
      "Ñam ñam estoy comiendo\n",
      "Estoy amamantando\n",
      "Fiummm estoy volando\n",
      "[<class '__main__.Murcielago'>, <class '__main__.Mamifero'>, <class '__main__.Ave'>, <class '__main__.Animal'>, <class 'object'>]\n"
     ]
    }
   ],
   "source": [
    "# clase Animal\n",
    "class Animal:\n",
    "## método comer\n",
    "    def comer(self):\n",
    "        print(\"Ñam ñam estoy comiendo\")\n",
    "    \n",
    "# clase Mamífero \n",
    "class Mamifero(Animal):\n",
    "## método amamantar\n",
    "    def amamantar(self):\n",
    "        print(\"Estoy amamantando\")\n",
    "\n",
    "# clase Ave\n",
    "class Ave(Animal):\n",
    "## método volar\n",
    "    def volar(self):\n",
    "        print(\"Fiummm estoy volando\")\n",
    "\n",
    "# clase Murciélago\n",
    "## hereda de Mamifero y Ave (en ese orden)\n",
    "class Murcielago(Mamifero, Ave):\n",
    "    pass\n",
    "## puede amamantar, volar y comer\n",
    "\n",
    "murcielago = Murcielago()\n",
    "murcielago.comer()\n",
    "murcielago.amamantar()\n",
    "murcielago.volar()\n",
    "# testear posibilidades de MRO\n",
    "print(Murcielago.mro())"
   ]
  },
  {
   "cell_type": "code",
   "execution_count": null,
   "id": "28b36a00",
   "metadata": {},
   "outputs": [
    {
     "name": "stdout",
     "output_type": "stream",
     "text": [
      "Miau\n",
      "Guau\n"
     ]
    }
   ],
   "source": [
    "### 4. POLIMORFISMO\n",
    "## Poder enviar un mismo mensaje sintactico a varios objetos pero que el resultado de cada uno sean distintos (debido a sus propiedades)\n",
    "# Ej: si le pido a unos animales que hagan un sonido (hacer sonido()), el perro será \"Guau\", para gato será \"Miau\", para vaca va a ser \"Muu\"\n",
    "# Permite estandarizar la llamada de métodos, crear clases flexibles, más versátiles\n",
    "\n",
    "class Gato:\n",
    "    def sonido(self):\n",
    "        return \"Miau\"\n",
    "    \n",
    "class Perro:\n",
    "    def sonido(self):\n",
    "        return \"Guau\"\n",
    "    \n",
    "def hacer_sonido(animal):\n",
    "    print(animal.sonido())\n",
    "\n",
    "gato = Gato()\n",
    "perro = Perro()\n",
    "\n",
    "hacer_sonido(gato)\n",
    "print(perro.sonido())\n",
    "\n",
    "# Investigar sobre\n",
    "## Duck Typing\n",
    "## Enlaces dinámicos, enlaces estáticos\n",
    "## Tipo real, tipo declarado"
   ]
  },
  {
   "cell_type": "code",
   "execution_count": null,
   "id": "dc941fd8",
   "metadata": {},
   "outputs": [
    {
     "name": "stdout",
     "output_type": "stream",
     "text": [
      "Valor\n"
     ]
    }
   ],
   "source": [
    "### 5. ENCAPSULAMIENTO\n",
    "## Proteger los elementos de una clase\n",
    "class MiClase:\n",
    "    def __init__(self):\n",
    "        # La forma en la que Python entiende que un atributo es privado es colocandole el guion bajo al comienzo\n",
    "        self._atributo_privado = \"Valor\"\n",
    "        ## Muy MUY privado. ** Output: error\n",
    "        self.__atributo_privado = \"Hola\"\n",
    "\n",
    "    ## También existen métodos privados, mismo output de arriba.\n",
    "    def __hablar(self):\n",
    "        print(\"Hola, como estass\")\n",
    "\n",
    "        \n",
    "objeto = MiClase()\n",
    "print(objeto._atributo_privado)\n",
    "#** print(objeto.__atributo_privado)\n",
    "\n"
   ]
  },
  {
   "cell_type": "code",
   "execution_count": null,
   "id": "5b7c9ac0",
   "metadata": {},
   "outputs": [
    {
     "name": "stdout",
     "output_type": "stream",
     "text": [
      "Jimena\n",
      "Jimena\n",
      "\n",
      "Jimena\n",
      "Araceli\n"
     ]
    }
   ],
   "source": [
    "### 6. GETTERS Y SETTERS\n",
    "## Getter --> método para acceder a un atributo muy privado o privado\n",
    "## Setter --> método para modificar o establecer el valor de un atributo muy privado o privado\n",
    "\n",
    "class Persona:\n",
    "\n",
    "    def __init__(self, nombre, edad):\n",
    "        self._nombre = nombre\n",
    "        self._edad = edad\n",
    "\n",
    "    def get_nombre(self):\n",
    "        return self._nombre\n",
    "    \n",
    "jimena = Persona(\"Jimena\", 20)\n",
    "nombre = jimena.get_nombre()\n",
    "print(nombre)   # Output: Jimena\n",
    "\n",
    "#### También funciona si le coloco complementamente privado\n",
    "class Persona:\n",
    "\n",
    "    def __init__(self, nombre, edad):\n",
    "        self.__nombre = nombre\n",
    "        self.__edad = edad\n",
    "\n",
    "    def get_nombre(self):\n",
    "        return self.__nombre\n",
    "    \n",
    "jimena = Persona(\"Jimena\", 20)\n",
    "nombre = jimena.get_nombre()\n",
    "print(nombre)\n",
    "\n",
    "#print(jimena.__nombre)  # Output: error\n",
    "print()\n",
    "##############\n",
    "class Persona:\n",
    "\n",
    "    def __init__(self, nombre, edad):\n",
    "        self._nombre = nombre\n",
    "        self._edad = edad\n",
    "\n",
    "    def get_nombre(self):\n",
    "        return self._nombre\n",
    "    \n",
    "    def set_nombre(self, new_nombre):\n",
    "        self._nombre = new_nombre\n",
    "    \n",
    "jimena = Persona(\"Jimena\", 20)\n",
    "nombre = jimena.get_nombre()\n",
    "print(nombre)\n",
    "\n",
    "jimena.set_nombre(\"Araceli\")\n",
    "nombre = jimena.get_nombre()\n",
    "print(nombre)\n"
   ]
  },
  {
   "cell_type": "code",
   "execution_count": null,
   "id": "2c1374b8",
   "metadata": {},
   "outputs": [],
   "source": [
    "### 7. DECORADORES"
   ]
  }
 ],
 "metadata": {
  "kernelspec": {
   "display_name": "Python 3",
   "language": "python",
   "name": "python3"
  },
  "language_info": {
   "codemirror_mode": {
    "name": "ipython",
    "version": 3
   },
   "file_extension": ".py",
   "mimetype": "text/x-python",
   "name": "python",
   "nbconvert_exporter": "python",
   "pygments_lexer": "ipython3",
   "version": "3.11.9"
  }
 },
 "nbformat": 4,
 "nbformat_minor": 5
}
