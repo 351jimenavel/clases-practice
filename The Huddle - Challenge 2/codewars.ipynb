{
 "cells": [
  {
   "cell_type": "code",
   "execution_count": null,
   "id": "da1141ed",
   "metadata": {},
   "outputs": [
    {
     "name": "stdout",
     "output_type": "stream",
     "text": [
      "h\n",
      "o\n",
      "l\n",
      "a\n",
      "['h', 'o', 'l', 'a']\n"
     ]
    }
   ],
   "source": [
    "def piramide(string):\n",
    "    letras = []\n",
    "    for letra in string:\n",
    "        print(letra[0])\n",
    "        letras.append(letra)\n",
    "    print(letras)\n",
    "\n",
    "piramide(\"hola\")"
   ]
  },
  {
   "cell_type": "code",
   "execution_count": null,
   "id": "298888d9",
   "metadata": {},
   "outputs": [],
   "source": [
    "def mezclador(string_A, string_b):\n",
    "    lista = []\n",
    "    for i in range(len(string_A)):\n",
    "        while i < 3:\n",
    "            lista.append(string_A[i])\n",
    "            print(\"\", end=\"\")\n",
    "    \n",
    "    # for j in range(len(string_b)):\n",
    "    #     lista(string_b[:-i])\n",
    "\n",
    "    print(lista)\n",
    "mezclador(\"familia\", \"abrigarse\")"
   ]
  },
  {
   "cell_type": "code",
   "execution_count": null,
   "id": "9f335cdd",
   "metadata": {},
   "outputs": [
    {
     "name": "stdout",
     "output_type": "stream",
     "text": [
      "$iva la $ida"
     ]
    }
   ],
   "source": [
    "def palabra(string):\n",
    "    for letra in string:\n",
    "        if letra.isupper():\n",
    "            print(\"$\", end=\"\")\n",
    "        else:\n",
    "            print(letra, end=\"\")\n",
    "\n",
    "\n",
    "palabra(\"Viva la Vida\")"
   ]
  },
  {
   "cell_type": "code",
   "execution_count": 41,
   "id": "7e112840",
   "metadata": {},
   "outputs": [
    {
     "name": "stdout",
     "output_type": "stream",
     "text": [
      "aloH\n",
      "oniugniP\n"
     ]
    }
   ],
   "source": [
    "def invertir_palabra(string):\n",
    "    palabra_separada = string.split()\n",
    "\n",
    "    for palabra in palabra_separada:\n",
    "        if len(palabra) == 3:\n",
    "            print(palabra[::-1])\n",
    "        else:\n",
    "            print(palabra[::-1])\n",
    "\n",
    "invertir_palabra(\"Hola Pinguino\")"
   ]
  },
  {
   "cell_type": "code",
   "execution_count": 48,
   "id": "7415aa79",
   "metadata": {},
   "outputs": [
    {
     "name": "stdout",
     "output_type": "stream",
     "text": [
      "1 horas, 1 minutos, 1 segundos\n"
     ]
    }
   ],
   "source": [
    "def convertor(segundos):\n",
    "        \n",
    "    hora = segundos // 3600\n",
    "    minuto = (segundos // 60) - 1\n",
    "    if minuto == 60:\n",
    "        minuto = 1\n",
    "    \n",
    "    segundo = (segundos // 60) - 1\n",
    "    if segundo == 60:\n",
    "        segundo = 1\n",
    "\n",
    "    return hora, minuto, segundo\n",
    "\n",
    "hora, minuto, segundo = convertor(3661)\n",
    "print(f\"{hora} horas, {minuto} minutos, {segundo} segundos\")\n"
   ]
  },
  {
   "cell_type": "code",
   "execution_count": null,
   "id": "97c1584e",
   "metadata": {},
   "outputs": [
    {
     "data": {
      "text/plain": [
       "1"
      ]
     },
     "execution_count": 53,
     "metadata": {},
     "output_type": "execute_result"
    }
   ],
   "source": [
    "\n",
    "def contar(numeros):\n",
    "    contador = 0\n",
    "    for numero in numeros:\n",
    "        if numero == 1:\n",
    "            contador += 1\n",
    "        return contador\n",
    "    \n",
    "contar([1,1,1,4,3,5,6,7,6,4,2,1])\n"
   ]
  }
 ],
 "metadata": {
  "kernelspec": {
   "display_name": "Python 3",
   "language": "python",
   "name": "python3"
  },
  "language_info": {
   "codemirror_mode": {
    "name": "ipython",
    "version": 3
   },
   "file_extension": ".py",
   "mimetype": "text/x-python",
   "name": "python",
   "nbconvert_exporter": "python",
   "pygments_lexer": "ipython3",
   "version": "3.11.9"
  }
 },
 "nbformat": 4,
 "nbformat_minor": 5
}
